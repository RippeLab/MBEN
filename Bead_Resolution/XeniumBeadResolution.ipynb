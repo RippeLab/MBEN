{
 "cells": [
  {
   "cell_type": "code",
   "execution_count": 1,
   "id": "314bb52e-6016-41f4-8864-7dbb632ca940",
   "metadata": {
    "editable": true,
    "slideshow": {
     "slide_type": ""
    },
    "tags": []
   },
   "outputs": [],
   "source": [
    "import os\n",
    "import tifffile\n",
    "import numpy as np\n",
    "import pandas as pd\n",
    "import seaborn as sns\n",
    "import matplotlib.pyplot as plt\n",
    "from scipy import signal\n",
    "from skimage import feature\n",
    "from bigfish import detection"
   ]
  },
  {
   "cell_type": "code",
   "execution_count": 2,
   "id": "c7a7f9bf-4181-4b7d-8ae3-0072cd105643",
   "metadata": {},
   "outputs": [
    {
     "name": "stdout",
     "output_type": "stream",
     "text": [
      "['_morphology_X19935_Y7267_W471_H471.ome.tif']\n"
     ]
    }
   ],
   "source": [
    "# Assumes the folders are present in the CWD\n",
    "path_input = \"./img_Xenium\"\n",
    "path_output = \"./output_Xenium\"\n",
    "path_figures = \"./figures_Xenium\"\n",
    "path_fwhm = \"./fwhm_Xenium\"\n",
    "\n",
    "paths = os.listdir(path_input)\n",
    "paths = [p for p in paths if p.endswith(\"tif\")]\n",
    "print(paths)"
   ]
  },
  {
   "cell_type": "code",
   "execution_count": 3,
   "id": "e1704ca3-3c98-4288-82d1-863345df2605",
   "metadata": {
    "editable": true,
    "slideshow": {
     "slide_type": ""
    },
    "tags": []
   },
   "outputs": [],
   "source": [
    "np.int = int # Fixes compute_snr_spots using the now deprecated numpy.int https://numpy.org/devdocs/release/1.20.0-notes.html#deprecations"
   ]
  },
  {
   "cell_type": "code",
   "execution_count": 4,
   "id": "89723723-3f3d-4a6f-a97f-f26dcf217552",
   "metadata": {
    "editable": true,
    "slideshow": {
     "slide_type": ""
    },
    "tags": []
   },
   "outputs": [],
   "source": [
    "RADIUS_FACTOR = 2.0\n",
    "PIXEL_SIZE = (212.5 , 212.5)  # in nanometer (one value per dimension yx)\n",
    "SPOT_RADIUS = (212.5 * RADIUS_FACTOR, 212.5 * RADIUS_FACTOR)  # in nanometer (one value per dimension yx)\n",
    "THRESHOLD_LOW = 100\n",
    "MIN_DIST= 1"
   ]
  },
  {
   "cell_type": "code",
   "execution_count": 5,
   "id": "e98b81b3-14dd-4dfc-8615-cb8d94bb2e58",
   "metadata": {
    "editable": true,
    "slideshow": {
     "slide_type": ""
    },
    "tags": []
   },
   "outputs": [
    {
     "name": "stdout",
     "output_type": "stream",
     "text": [
      "                                            img_path  \\\n",
      "0  ./img_Xenium/_morphology_X19935_Y7267_W471_H47...   \n",
      "\n",
      "                                          spots_path  spots     snr  \\\n",
      "0  ./output_Xenium/_morphology_X19935_Y7267_W471_...   3158  4.7263   \n",
      "\n",
      "   threshold_low  \n",
      "0            100  \n"
     ]
    }
   ],
   "source": [
    "# Identify peaks as local maxima  and calculate signal to noise ratio with big-fish (https://big-fish.readthedocs.io/en/stable/detection/spots.html#compute-signal-to-noise-ratio)\n",
    "summary = []\n",
    "for path in paths:\n",
    "    img_path = os.path.join(path_input, path)\n",
    "    img = tifffile.imread(img_path)[5,:,:] # Exclude out of focus z-slices\n",
    "    clean_img = np.copy(img)\n",
    "    clean_img[clean_img < THRESHOLD_LOW] = 0 # Remove all pixels < THRESHOLD_LOW\n",
    "    spots = feature.peak_local_max(clean_img, min_distance=MIN_DIST,\n",
    "                                   threshold_abs=None,\n",
    "                                   footprint = None,\n",
    "                                   threshold_rel=None,\n",
    "                                   exclude_border=False) # Identify peaks as local maxima\n",
    "    output_path = os.path.join(path_output, path.replace(\".ome.tif\", \".csv\"))\n",
    "    df = pd.DataFrame(spots)\n",
    "    df.to_csv(path_or_buf = output_path, sep=',', na_rep='', float_format=None, columns=None, header=True, index=False)\n",
    "\n",
    "    snr = detection.compute_snr_spots(img, spots[:, 0:2], PIXEL_SIZE, SPOT_RADIUS)\n",
    "\n",
    "    results = {\"img_path\":img_path, \"spots_path\":output_path, \"spots\":spots.shape[0], \"snr\":snr, \"threshold_low\":THRESHOLD_LOW}\n",
    "    summary.append(results)\n",
    "\n",
    "# Save and print the summary\n",
    "summary = pd.DataFrame(summary)\n",
    "print(summary)\n",
    "summary.to_csv(path_or_buf = os.path.join(path_output, \"summary.csv\"), sep=',', na_rep='', float_format=None, columns=None, header=True, index=False)   "
   ]
  },
  {
   "cell_type": "code",
   "execution_count": null,
   "id": "fcbd5b33-0083-4c39-ad18-8919ff248c5c",
   "metadata": {},
   "outputs": [],
   "source": [
    "# Plot the identified peaks on the image\n",
    "for path in paths:\n",
    "    img_path = os.path.join(path_input, path)\n",
    "    tbl_path = os.path.join(path_output, path.replace(\".ome.tif\", \".csv\"))\n",
    "    out_path = os.path.join(path_figures, path.replace(\".ome.tif\", \"-figure.png\"))\n",
    "  \n",
    "    img = tifffile.imread(img_path)[5,:,:] # Exclude out of focus z-slices\n",
    "    \n",
    "    data = pd.read_csv(tbl_path)\n",
    "    data.rename(columns = {\"0\":\"y\", \"1\":\"x\"}, inplace = True)\n",
    "    data.loc[:, \"y\"] = img.shape[0] - data.loc[:, \"y\"]\n",
    "    plt.clf()\n",
    "    plt.set_cmap('hot')\n",
    "    f, ax = plt.subplots(figsize=(36, 36))\n",
    "    ax.imshow(img, extent=[0, img.shape[1], 0, img.shape[0]], aspect='auto')\n",
    "    sns.scatterplot(x=\"x\", y=\"y\", facecolors = 'none', edgecolors = 'lime',\n",
    "                data=data, ax=ax)\n",
    "    ax.set_axis_off()\n",
    "    f.savefig(out_path, bbox_inches='tight', pad_inches = 0)\n",
    "    print((img_path, tbl_path, out_path))"
   ]
  },
  {
   "cell_type": "code",
   "execution_count": 7,
   "id": "a5406846-5e58-4b71-babf-aa363ea8ecb1",
   "metadata": {},
   "outputs": [
    {
     "name": "stderr",
     "output_type": "stream",
     "text": [
      "/tmp/ipykernel_69304/252985659.py:14: DeprecationWarning: Conversion of an array with ndim > 0 to a scalar is deprecated, and will error in future. Ensure you extract a single element from your array before performing this operation. (Deprecated NumPy 1.25.)\n",
      "  results[i,4] = signal.peak_widths(img[: ,p[1]], np.full((1), p[0]), rel_height=0.5, prominence_data=None, wlen=None)[0] # Y\n",
      "/tmp/ipykernel_69304/252985659.py:15: DeprecationWarning: Conversion of an array with ndim > 0 to a scalar is deprecated, and will error in future. Ensure you extract a single element from your array before performing this operation. (Deprecated NumPy 1.25.)\n",
      "  results[i,5] = signal.peak_widths(img[p[0], :,], np.full((1), p[1]), rel_height=0.5, prominence_data=None, wlen=None)[0] # X\n",
      "/tmp/ipykernel_69304/252985659.py:15: PeakPropertyWarning: some peaks have a prominence of 0\n",
      "  results[i,5] = signal.peak_widths(img[p[0], :,], np.full((1), p[1]), rel_height=0.5, prominence_data=None, wlen=None)[0] # X\n",
      "/tmp/ipykernel_69304/252985659.py:15: PeakPropertyWarning: some peaks have a width of 0\n",
      "  results[i,5] = signal.peak_widths(img[p[0], :,], np.full((1), p[1]), rel_height=0.5, prominence_data=None, wlen=None)[0] # X\n",
      "/tmp/ipykernel_69304/252985659.py:14: PeakPropertyWarning: some peaks have a prominence of 0\n",
      "  results[i,4] = signal.peak_widths(img[: ,p[1]], np.full((1), p[0]), rel_height=0.5, prominence_data=None, wlen=None)[0] # Y\n",
      "/tmp/ipykernel_69304/252985659.py:14: PeakPropertyWarning: some peaks have a width of 0\n",
      "  results[i,4] = signal.peak_widths(img[: ,p[1]], np.full((1), p[0]), rel_height=0.5, prominence_data=None, wlen=None)[0] # Y\n"
     ]
    }
   ],
   "source": [
    "# Calculate FWHM using scipy.signal.peak_widths (https://docs.scipy.org/doc/scipy/reference/generated/scipy.signal.peak_widths.html)\n",
    "header = [\"y_px\", \"x_px\", \"y_nm\", \"x_nm\", \"fwhm_y_px\", \"fwhm_x_px\", \"fwhm_y_nm\", \"fwhm_x_nm\"]\n",
    "for path in paths:\n",
    "    tbl_path = os.path.join(path_output, path.replace(\".ome.tif\", \".csv\"))\n",
    "    out_path = os.path.join(path_fwhm, path.replace(\".csv\", \"-fwhm.csv\"))\n",
    "    img_path = os.path.join(path_input, path)\n",
    "    img = tifffile.imread(img_path)[5,:] # Exclude out of focus z-slices\n",
    "\n",
    "    peaks = pd.read_csv(tbl_path)\n",
    "    peaks = np.asarray(peaks)\n",
    "    results = np.concatenate((peaks, np.full((peaks.shape[0], 6), -1.0)), axis = 1)\n",
    "    \n",
    "    for i,p in enumerate(peaks):\n",
    "         results[i,4] = signal.peak_widths(img[: ,p[1]], np.full((1), p[0]), rel_height=0.5, prominence_data=None, wlen=None)[0] # Y\n",
    "         results[i,5] = signal.peak_widths(img[p[0], :,], np.full((1), p[1]), rel_height=0.5, prominence_data=None, wlen=None)[0] # X\n",
    "    results[:, 2] = results[:, 0] * PIXEL_SIZE[0]  # Peak coordinate Y \n",
    "    results[:, 3] = results[:, 1] * PIXEL_SIZE[1]  # Peak coordinate X\n",
    "    results[:, 6] = results[:, 4] * PIXEL_SIZE[0]  # Peak FWHM Y\n",
    "    results[:, 7] = results[:, 5] * PIXEL_SIZE[1]  # Peak FWHM X\n",
    "    \n",
    "    df = pd.DataFrame(results, columns=header)\n",
    "    df.to_csv(path_or_buf = out_path, sep=',', na_rep='',\n",
    "              float_format=None, columns=None, header=True, index=False)\n"
   ]
  },
  {
   "cell_type": "code",
   "execution_count": 9,
   "id": "7ffb111d-710c-4c5a-8d48-6ced3928ffa9",
   "metadata": {},
   "outputs": [
    {
     "name": "stdout",
     "output_type": "stream",
     "text": [
      "./output_Xenium/_morphology_X19935_Y7267_W471_H471\n"
     ]
    }
   ],
   "source": []
  },
  {
   "cell_type": "code",
   "execution_count": null,
   "id": "6d1e8132-fdda-4827-a4e2-2b9db88465cc",
   "metadata": {},
   "outputs": [],
   "source": []
  }
 ],
 "metadata": {
  "kernelspec": {
   "display_name": "spotcalling",
   "language": "python",
   "name": "spotcalling"
  },
  "language_info": {
   "codemirror_mode": {
    "name": "ipython",
    "version": 3
   },
   "file_extension": ".py",
   "mimetype": "text/x-python",
   "name": "python",
   "nbconvert_exporter": "python",
   "pygments_lexer": "ipython3",
   "version": "3.12.7"
  }
 },
 "nbformat": 4,
 "nbformat_minor": 5
}
